{
  "nbformat": 4,
  "nbformat_minor": 0,
  "metadata": {
    "colab": {
      "name": "PROJECT ROCK PAPER SCISSORS",
      "provenance": [],
      "authorship_tag": "ABX9TyMc0RlisnKBG5rjnHjMgTkO",
      "include_colab_link": true
    },
    "kernelspec": {
      "name": "python3",
      "display_name": "Python 3"
    }
  },
  "cells": [
    {
      "cell_type": "markdown",
      "metadata": {
        "id": "view-in-github",
        "colab_type": "text"
      },
      "source": [
        "<a href=\"https://colab.research.google.com/github/nabssss/PYPROJECT-ROCK-PAPER-SCISSORS-GAME/blob/master/PROJECT_ROCK_PAPER_SCISSORS.ipynb\" target=\"_parent\"><img src=\"https://colab.research.google.com/assets/colab-badge.svg\" alt=\"Open In Colab\"/></a>"
      ]
    },
    {
      "cell_type": "markdown",
      "metadata": {
        "id": "fNEUSoMGV-OJ",
        "colab_type": "text"
      },
      "source": [
        "**Py Rock Paper Scissors Game\n",
        "Rock, Paper, Scissors Game\n",
        "Make a rock-paper-scissors game where it is the player vs the computer. The computer’s answer will be randomly generated, while the program will ask the user for their input. This project will better your understanding of while loops and if statements.**"
      ]
    },
    {
      "cell_type": "code",
      "metadata": {
        "id": "-x8545xeV9PL",
        "colab_type": "code",
        "colab": {
          "base_uri": "https://localhost:8080/",
          "height": 102
        },
        "outputId": "928124bd-6768-4635-9e23-563733f7ab2c"
      },
      "source": [
        "import random\n",
        "a=['rock','paper','scissors']\n",
        "computer=random.choice(a)\n",
        "print(\"ENTER YOUR CHOICES \\n\")\n",
        "user=(input(\"Enter Rock Paper Scissiors \\n\"))\n",
        "\n",
        "if(computer==a[0] and user==[0]):\n",
        "  print(\"The Game is Draw\")\n",
        "elif(computer==a[0] and user==a[1]):\n",
        "  print(\"User Win\")\n",
        "elif(computer==a[0] and user==a[2]):\n",
        "  print(\"Computer win\")\n",
        "elif(computer==a[1] and user==a[0]):\n",
        "  print(\"Draw game\")\n",
        "elif(computer==a[1] and user==a[1]):\n",
        "  print(\"computer win\")\n",
        "elif(computer==a[1] and user==a[2]):\n",
        "  print(\"user win\")\n",
        "elif(computer==a[2] and user==a[0]):\n",
        "  print(\"user win\")\n",
        "elif(computer==a[2] and user==a[1]):\n",
        "  print(\"computer win\")\n",
        "elif(computer==a[2] and user==a[2]):\n",
        "  print(\"Draw game\")\n",
        "else:\n",
        "  print(\"Invalid choice\")"
      ],
      "execution_count": 1,
      "outputs": [
        {
          "output_type": "stream",
          "text": [
            "ENTER YOUR CHOICES \n",
            "\n",
            "Enter Rock Paper Scissiors \n",
            "rock\n",
            "user win\n"
          ],
          "name": "stdout"
        }
      ]
    }
  ]
}